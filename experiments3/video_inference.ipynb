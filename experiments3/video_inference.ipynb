{
 "cells": [
  {
   "cell_type": "markdown",
   "metadata": {},
   "source": [
    "# Video Inference Demo"
   ]
  },
  {
   "cell_type": "code",
   "execution_count": 26,
   "metadata": {},
   "outputs": [],
   "source": [
    "import cv2\n",
    "import mmcv\n",
    "from mmcv.transforms import Compose\n",
    "from mmengine.utils import track_iter_progress\n",
    "from mmdet.registry import VISUALIZERS\n",
    "from mmdet.utils import register_all_modules\n",
    "from mmdet.apis import init_detector, inference_detector\n",
    "from mmdet.apis import DetInferencer"
   ]
  },
  {
   "cell_type": "code",
   "execution_count": 27,
   "metadata": {},
   "outputs": [],
   "source": [
    "# Specify the path to model config and checkpoint file\n",
    "config_file = \"E:\\Current_Workdir\\Portfolios\\Weapon-Object-Detection\\\\tmp\\\\1712903603.213322-weapon_detection_yolox\\mmdet_image\\config.py\"\n",
    "checkpoint_file = \".\\\\model\\\\mmdet_image\\\\model.pth\""
   ]
  },
  {
   "cell_type": "code",
   "execution_count": 28,
   "metadata": {},
   "outputs": [
    {
     "name": "stdout",
     "output_type": "stream",
     "text": [
      "E:\\Current_Workdir\\Portfolios\\Weapon-Object-Detection\\tmp\\1712903603.213322-weapon_detection_yolox\\mmdet_image\\config.py\n",
      ".\\model\\mmdet_image\\model.pth\n"
     ]
    }
   ],
   "source": [
    "print(config_file)\n",
    "print(checkpoint_file)"
   ]
  },
  {
   "cell_type": "code",
   "execution_count": 9,
   "metadata": {},
   "outputs": [],
   "source": [
    "# from mmcv import Config\n",
    "\n",
    "# config_file = 'configs/yolox/yolox_l_8xb8-300e_coco.py'\n",
    "# cfg = Config.fromfile(config_file)\n",
    "\n",
    "# print(cfg.model)"
   ]
  },
  {
   "cell_type": "code",
   "execution_count": 8,
   "metadata": {},
   "outputs": [],
   "source": [
    "# dependency bug: https://github.com/open-mmlab/mmdetection/issues/10127\n",
    "# you gotta make sure you got the proper mmdetection version (i'm currently trying to load MMDet 2.0 config on an MMDet 3.0)\n",
    "# f*** i gotta reinstall everything: https://auto.gluon.ai/stable/install-modules.html\n",
    "#model = init_detector(config_file, checkpoint_file, device='cuda:0')"
   ]
  },
  {
   "cell_type": "code",
   "execution_count": 35,
   "metadata": {},
   "outputs": [
    {
     "name": "stdout",
     "output_type": "stream",
     "text": [
      "Loads checkpoint by local backend from path: .\\model\\mmdet_image\\model.pth\n",
      "The model and loaded state dict do not match exactly\n",
      "\n",
      "size mismatch for bbox_head.multi_level_conv_cls.0.weight: copying a param with shape torch.Size([4, 256, 1, 1]) from checkpoint, the shape in current model is torch.Size([80, 256, 1, 1]).\n",
      "size mismatch for bbox_head.multi_level_conv_cls.0.bias: copying a param with shape torch.Size([4]) from checkpoint, the shape in current model is torch.Size([80]).\n",
      "size mismatch for bbox_head.multi_level_conv_cls.1.weight: copying a param with shape torch.Size([4, 256, 1, 1]) from checkpoint, the shape in current model is torch.Size([80, 256, 1, 1]).\n",
      "size mismatch for bbox_head.multi_level_conv_cls.1.bias: copying a param with shape torch.Size([4]) from checkpoint, the shape in current model is torch.Size([80]).\n",
      "size mismatch for bbox_head.multi_level_conv_cls.2.weight: copying a param with shape torch.Size([4, 256, 1, 1]) from checkpoint, the shape in current model is torch.Size([80, 256, 1, 1]).\n",
      "size mismatch for bbox_head.multi_level_conv_cls.2.bias: copying a param with shape torch.Size([4]) from checkpoint, the shape in current model is torch.Size([80]).\n"
     ]
    },
    {
     "name": "stderr",
     "output_type": "stream",
     "text": [
      "e:\\Programs\\miniforge3\\envs\\ag_stable\\lib\\site-packages\\mmengine\\visualization\\visualizer.py:196: UserWarning: Failed to add <class 'mmengine.visualization.vis_backend.LocalVisBackend'>, please provide the `save_dir` argument.\n",
      "  warnings.warn(f'Failed to add {vis_backend.__class__}, '\n"
     ]
    }
   ],
   "source": [
    "# https://mmdetection.readthedocs.io/en/latest/user_guides/inference.html\n",
    "model = DetInferencer(model='yolox_l_8x8_300e_coco', weights=checkpoint_file,device='cuda:0')"
   ]
  },
  {
   "cell_type": "code",
   "execution_count": 30,
   "metadata": {},
   "outputs": [],
   "source": [
    "# visualizer = VISUALIZERS.build(model.cfg.visualizer)"
   ]
  },
  {
   "cell_type": "code",
   "execution_count": 33,
   "metadata": {},
   "outputs": [
    {
     "data": {
      "text/html": [
       "<pre style=\"white-space:pre;overflow-x:auto;line-height:normal;font-family:Menlo,'DejaVu Sans Mono',consolas,'Courier New',monospace\">e:\\Programs\\miniforge3\\envs\\ag_stable\\lib\\site-packages\\rich\\live.py:231: UserWarning: install \"ipywidgets\" for \n",
       "Jupyter support\n",
       "  warnings.warn('install \"ipywidgets\" for Jupyter support')\n",
       "</pre>\n"
      ],
      "text/plain": [
       "e:\\Programs\\miniforge3\\envs\\ag_stable\\lib\\site-packages\\rich\\live.py:231: UserWarning: install \"ipywidgets\" for \n",
       "Jupyter support\n",
       "  warnings.warn('install \"ipywidgets\" for Jupyter support')\n"
      ]
     },
     "metadata": {},
     "output_type": "display_data"
    },
    {
     "data": {
      "text/html": [
       "<pre style=\"white-space:pre;overflow-x:auto;line-height:normal;font-family:Menlo,'DejaVu Sans Mono',consolas,'Courier New',monospace\"></pre>\n"
      ],
      "text/plain": []
     },
     "metadata": {},
     "output_type": "display_data"
    },
    {
     "data": {
      "text/html": [
       "<pre style=\"white-space:pre;overflow-x:auto;line-height:normal;font-family:Menlo,'DejaVu Sans Mono',consolas,'Courier New',monospace\">\n",
       "</pre>\n"
      ],
      "text/plain": [
       "\n"
      ]
     },
     "metadata": {},
     "output_type": "display_data"
    },
    {
     "name": "stdout",
     "output_type": "stream",
     "text": [
      "{'predictions': [{'labels': [31, 16, 62, 76, 31, 40, 61, 70, 41, 25, 35, 31, 76, 26, 48, 38, 34, 41, 34, 26, 38, 9, 31, 76, 61, 76, 5, 76, 39, 5, 62], 'scores': [0.8758748769760132, 0.873266875743866, 0.7939965724945068, 0.21048149466514587, 0.12610752880573273, 0.08401321619749069, 0.07381053268909454, 0.059868477284908295, 0.05811258777976036, 0.047326866537332535, 0.041932377964258194, 0.04023297503590584, 0.028593899682164192, 0.027291810140013695, 0.025477219372987747, 0.024771546944975853, 0.024268299341201782, 0.023891933262348175, 0.022716283798217773, 0.019645940512418747, 0.019031142815947533, 0.017273826524615288, 0.01569014973938465, 0.014503858983516693, 0.013961893506348133, 0.013518107123672962, 0.013377266936004162, 0.012791212648153305, 0.012294808402657509, 0.011917738243937492, 0.011128752492368221], 'bboxes': [[200.89125061035156, 273.5168151855469, 231.3408660888672, 350.0414123535156], [201.0163116455078, 274.70550537109375, 231.7650604248047, 350.53436279296875], [202.21041870117188, 273.67303466796875, 231.38412475585938, 353.5059814453125], [148.15196228027344, 276.1286315917969, 207.0466766357422, 350.0812072753906], [145.05615234375, 275.3924560546875, 206.45904541015625, 347.08599853515625], [107.2949447631836, 345.7932434082031, 265.63751220703125, 528.26123046875], [108.80533599853516, 346.12017822265625, 266.0891418457031, 528.1654052734375], [158.9144287109375, 275.5941467285156, 206.6912841796875, 340.2121887207031], [121.40419006347656, 265.0863342285156, 205.60227966308594, 433.3962097167969], [14.542732238769531, 210.28439331054688, 194.87359619140625, 343.0724182128906], [570.0401611328125, 353.0553894042969, 640.0838623046875, 377.2714538574219], [169.2842559814453, 277.6715087890625, 205.50636291503906, 335.21380615234375], [128.1134033203125, 309.9274597167969, 183.843505859375, 416.0979919433594], [102.64656829833984, 261.8163757324219, 136.6300506591797, 302.8534851074219], [16.02928924560547, 210.78118896484375, 195.31744384765625, 340.3194580078125], [256.0469665527344, 361.1426696777344, 304.4830017089844, 430.8509826660156], [122.2114028930664, 265.5096435546875, 206.38665771484375, 422.0721435546875], [19.17791748046875, 210.4423828125, 196.13134765625, 341.927001953125], [14.573410034179688, 209.18829345703125, 199.0227813720703, 346.87225341796875], [258.7709045410156, 363.1709289550781, 288.8126525878906, 407.2532043457031], [258.6481018066406, 362.6593933105469, 289.4164123535156, 407.7345886230469], [19.09832763671875, 211.08172607421875, 196.10910034179688, 340.74749755859375], [103.58692169189453, 261.847900390625, 136.6630096435547, 302.78021240234375], [203.33302307128906, 279.09808349609375, 231.3499298095703, 352.77978515625], [8.298484802246094, 206.79473876953125, 202.52236938476562, 351.031005859375], [171.05096435546875, 277.5711364746094, 205.72091674804688, 336.0054626464844], [249.6676025390625, 363.59893798828125, 304.4525146484375, 435.67144775390625], [138.3455810546875, 312.9895324707031, 183.521728515625, 390.7675476074219], [568.5673828125, 353.0486755371094, 640.610595703125, 373.7825622558594], [195.58587646484375, 347.3668212890625, 269.2591247558594, 419.985107421875], [194.4901580810547, 346.2942810058594, 269.85345458984375, 425.8583068847656]]}], 'visualization': []}\n"
     ]
    }
   ],
   "source": [
    "result = model(r\"E:\\Current_Workdir\\Portfolios\\Weapon-Object-Detection\\remapped-train-80-val-20_coco\\test\\youtube-52_jpg.rf.1aa86014a4148ab8053185e7553a1151.jpg\")\n",
    "print(result)"
   ]
  },
  {
   "cell_type": "code",
   "execution_count": null,
   "metadata": {},
   "outputs": [],
   "source": []
  }
 ],
 "metadata": {
  "kernelspec": {
   "display_name": "Python 3",
   "language": "python",
   "name": "python3"
  },
  "language_info": {
   "codemirror_mode": {
    "name": "ipython",
    "version": 3
   },
   "file_extension": ".py",
   "mimetype": "text/x-python",
   "name": "python",
   "nbconvert_exporter": "python",
   "pygments_lexer": "ipython3",
   "version": "3.9.19"
  }
 },
 "nbformat": 4,
 "nbformat_minor": 2
}
